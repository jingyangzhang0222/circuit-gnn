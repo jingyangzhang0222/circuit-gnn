{
 "cells": [
  {
   "cell_type": "markdown",
   "metadata": {},
   "source": [
    "## PyTorch Basics"
   ]
  },
  {
   "cell_type": "code",
   "execution_count": 24,
   "metadata": {},
   "outputs": [],
   "source": [
    "import torch\n",
    "import numpy as np"
   ]
  },
  {
   "cell_type": "code",
   "execution_count": 16,
   "metadata": {},
   "outputs": [
    {
     "name": "stdout",
     "output_type": "stream",
     "text": [
      "tensor([[1.0102e-38, 1.0286e-38, 1.0194e-38],\n",
      "        [9.6429e-39, 9.2755e-39, 9.1837e-39],\n",
      "        [9.3674e-39, 1.0745e-38, 1.0653e-38],\n",
      "        [9.5510e-39, 1.0561e-38, 1.0194e-38],\n",
      "        [1.1112e-38, 1.0561e-38, 9.9184e-39],\n",
      "        [1.0653e-38, 4.1327e-39, 1.0194e-38]])\n"
     ]
    }
   ],
   "source": [
    "x = torch.empty(6,3)\n",
    "print(x)"
   ]
  },
  {
   "cell_type": "code",
   "execution_count": 3,
   "metadata": {},
   "outputs": [
    {
     "name": "stdout",
     "output_type": "stream",
     "text": [
      "tensor([[ 0.6007, -0.1978,  0.2115],\n",
      "        [-0.8638,  0.0965,  0.9455],\n",
      "        [ 0.7781,  0.2224,  0.7737],\n",
      "        [-1.0410,  0.3707,  1.9688],\n",
      "        [-0.1346,  0.7352,  0.7162]])\n"
     ]
    }
   ],
   "source": [
    "y = torch.randn(5,3)\n",
    "print(y)"
   ]
  },
  {
   "cell_type": "code",
   "execution_count": 7,
   "metadata": {},
   "outputs": [
    {
     "name": "stdout",
     "output_type": "stream",
     "text": [
      "tensor([[0, 0, 0],\n",
      "        [0, 0, 0],\n",
      "        [0, 0, 0],\n",
      "        [0, 0, 0],\n",
      "        [0, 0, 0]])\n"
     ]
    }
   ],
   "source": [
    "z = torch.zeros(5,3,dtype=torch.long)\n",
    "print(z)"
   ]
  },
  {
   "cell_type": "code",
   "execution_count": 10,
   "metadata": {},
   "outputs": [
    {
     "name": "stdout",
     "output_type": "stream",
     "text": [
      "tensor([5.5000, 3.0000])\n"
     ]
    }
   ],
   "source": [
    "z = torch.tensor([5.5,3])\n",
    "print(z)"
   ]
  },
  {
   "cell_type": "code",
   "execution_count": 11,
   "metadata": {},
   "outputs": [
    {
     "name": "stdout",
     "output_type": "stream",
     "text": [
      "tensor([[ 0.6007, -0.1978,  0.2115],\n",
      "        [-0.8638,  0.0965,  0.9455],\n",
      "        [ 0.7781,  0.2224,  0.7737],\n",
      "        [-1.0410,  0.3707,  1.9688],\n",
      "        [-0.1346,  0.7352,  0.7162]])\n"
     ]
    }
   ],
   "source": [
    "result = torch.empty(5, 3)\n",
    "torch.add(x, y, out=result)\n",
    "print(result)"
   ]
  },
  {
   "cell_type": "code",
   "execution_count": 17,
   "metadata": {},
   "outputs": [
    {
     "name": "stdout",
     "output_type": "stream",
     "text": [
      "tensor([1.0194e-38, 9.1837e-39, 1.0653e-38, 1.0194e-38, 9.9184e-39, 1.0194e-38])\n"
     ]
    }
   ],
   "source": [
    "print(x[:,2]) #NumPy-like indexing"
   ]
  },
  {
   "cell_type": "code",
   "execution_count": 20,
   "metadata": {},
   "outputs": [],
   "source": [
    "#Resizing using torch.view()\n",
    "a = torch.randn(4,4)\n",
    "b = a.view(16)\n",
    "c = a.view(-1,8)"
   ]
  },
  {
   "cell_type": "code",
   "execution_count": 21,
   "metadata": {},
   "outputs": [
    {
     "name": "stdout",
     "output_type": "stream",
     "text": [
      "tensor([-1.3586,  0.9107,  0.5895, -1.7699,  0.5943, -1.7942, -0.4786,  0.2503,\n",
      "        -0.7705,  1.2964,  0.2701, -2.4702, -0.0813, -1.3886,  0.5643,  0.8193])\n"
     ]
    }
   ],
   "source": [
    "print(b)"
   ]
  },
  {
   "cell_type": "code",
   "execution_count": 22,
   "metadata": {},
   "outputs": [
    {
     "name": "stdout",
     "output_type": "stream",
     "text": [
      "tensor([[-1.3586,  0.9107,  0.5895, -1.7699,  0.5943, -1.7942, -0.4786,  0.2503],\n",
      "        [-0.7705,  1.2964,  0.2701, -2.4702, -0.0813, -1.3886,  0.5643,  0.8193]])\n"
     ]
    }
   ],
   "source": [
    "print(c)"
   ]
  },
  {
   "cell_type": "code",
   "execution_count": 23,
   "metadata": {},
   "outputs": [
    {
     "name": "stdout",
     "output_type": "stream",
     "text": [
      "[[-1.3585852   0.91068137  0.5895272  -1.7698894 ]\n",
      " [ 0.59433013 -1.7941643  -0.47863564  0.25029963]\n",
      " [-0.7705383   1.2964286   0.27012482 -2.4702299 ]\n",
      " [-0.08126742 -1.3886442   0.564267    0.81933576]]\n"
     ]
    }
   ],
   "source": [
    "#Converting torch tensor to numpy array\n",
    "d = a.numpy()\n",
    "print(d)"
   ]
  },
  {
   "cell_type": "code",
   "execution_count": 26,
   "metadata": {},
   "outputs": [
    {
     "name": "stdout",
     "output_type": "stream",
     "text": [
      "[3. 3. 3. 3. 3. 3.]\n",
      "tensor([3., 3., 3., 3., 3., 3.], dtype=torch.float64)\n"
     ]
    }
   ],
   "source": [
    "a = np.ones(6)\n",
    "b = torch.from_numpy(a)\n",
    "np.add(a, 2, out=a)\n",
    "print(a)\n",
    "print(b)"
   ]
  },
  {
   "cell_type": "code",
   "execution_count": null,
   "metadata": {},
   "outputs": [],
   "source": []
  }
 ],
 "metadata": {
  "kernelspec": {
   "display_name": "Python 3",
   "language": "python",
   "name": "python3"
  },
  "language_info": {
   "codemirror_mode": {
    "name": "ipython",
    "version": 3
   },
   "file_extension": ".py",
   "mimetype": "text/x-python",
   "name": "python",
   "nbconvert_exporter": "python",
   "pygments_lexer": "ipython3",
   "version": "3.7.3"
  }
 },
 "nbformat": 4,
 "nbformat_minor": 2
}
